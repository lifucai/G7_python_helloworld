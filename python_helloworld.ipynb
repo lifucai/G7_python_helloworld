{
 "cells": [
  {
   "cell_type": "markdown",
   "metadata": {},
   "source": [
    "# G7 Python 入门课程\n",
    "## 项目1 Python操作入门\n",
    "\n",
    "入门可能主要是读取税前薪水和可能的纳税额，根据正确的公式，判断是否正确"
   ]
  },
  {
   "cell_type": "markdown",
   "metadata": {},
   "source": [
    "**提示**：这样的文字将会指导你如何使用 iPython Notebook 来完成项目。"
   ]
  },
  {
   "cell_type": "code",
   "execution_count": 159,
   "metadata": {},
   "outputs": [],
   "source": [
    "# 检查你的Python版本\n",
    "from sys import version_info\n",
    "if version_info.major != 2 and version_info.minor != 7:\n",
    "    raise Exception('请使用Python 2.7来完成此项目')"
   ]
  },
  {
   "cell_type": "code",
   "execution_count": 160,
   "metadata": {
    "scrolled": true
   },
   "outputs": [
    {
     "data": {
      "text/html": [
       "<div>\n",
       "<style scoped>\n",
       "    .dataframe tbody tr th:only-of-type {\n",
       "        vertical-align: middle;\n",
       "    }\n",
       "\n",
       "    .dataframe tbody tr th {\n",
       "        vertical-align: top;\n",
       "    }\n",
       "\n",
       "    .dataframe thead th {\n",
       "        text-align: right;\n",
       "    }\n",
       "</style>\n",
       "<table border=\"1\" class=\"dataframe\">\n",
       "  <thead>\n",
       "    <tr style=\"text-align: right;\">\n",
       "      <th></th>\n",
       "      <th>name</th>\n",
       "      <th>salary</th>\n",
       "      <th>tax_maybe</th>\n",
       "    </tr>\n",
       "  </thead>\n",
       "  <tbody>\n",
       "    <tr>\n",
       "      <th>0</th>\n",
       "      <td>wang</td>\n",
       "      <td>2500</td>\n",
       "      <td>0</td>\n",
       "    </tr>\n",
       "    <tr>\n",
       "      <th>1</th>\n",
       "      <td>zhang</td>\n",
       "      <td>7000</td>\n",
       "      <td>105</td>\n",
       "    </tr>\n",
       "    <tr>\n",
       "      <th>2</th>\n",
       "      <td>li</td>\n",
       "      <td>8000</td>\n",
       "      <td>205</td>\n",
       "    </tr>\n",
       "    <tr>\n",
       "      <th>3</th>\n",
       "      <td>song</td>\n",
       "      <td>9000</td>\n",
       "      <td>405</td>\n",
       "    </tr>\n",
       "    <tr>\n",
       "      <th>4</th>\n",
       "      <td>tang</td>\n",
       "      <td>50000</td>\n",
       "      <td>800</td>\n",
       "    </tr>\n",
       "  </tbody>\n",
       "</table>\n",
       "</div>"
      ],
      "text/plain": [
       "    name  salary  tax_maybe\n",
       "0   wang    2500          0\n",
       "1  zhang    7000        105\n",
       "2     li    8000        205\n",
       "3   song    9000        405\n",
       "4   tang   50000        800"
      ]
     },
     "metadata": {},
     "output_type": "display_data"
    }
   ],
   "source": [
    "import numpy as np\n",
    "import pandas as pd\n",
    "\n",
    "# 数据可视化代码\n",
    "from titanic_visualizations import survival_stats\n",
    "from IPython.display import display\n",
    "%matplotlib inline\n",
    "\n",
    "# 加载数据集\n",
    "in_file = 'data.csv'\n",
    "full_data = pd.read_csv(in_file)\n",
    "\n",
    "# 显示数据列表中的前几项数据\n",
    "display(full_data.head())"
   ]
  },
  {
   "cell_type": "markdown",
   "metadata": {},
   "source": [
    "数据样本中，我们可以看到的特征\n",
    "\n",
    "- **name**：名称\n",
    "- **salary**：税前薪水\n",
    "- **tax_maybe**：可能的缴税额度\n",
    "\n"
   ]
  },
  {
   "cell_type": "markdown",
   "metadata": {},
   "source": [
    "个税的计算方式\n",
    "![xxx](https://img-blog.csdn.net/20171017113915227?watermark/2/text/aHR0cDovL2Jsb2cuY3Nkbi5uZXQvVG9nZXRoZXJfQ1o=/font/5a6L5L2T/fontsize/400/fill/I0JBQkFCMA==/dissolve/70/gravity/Center)"
   ]
  },
  {
   "cell_type": "code",
   "execution_count": 204,
   "metadata": {},
   "outputs": [],
   "source": [
    "def calculator(salary):\n",
    "    \"\"\" 返回税后薪水 \"\"\"\n",
    "    \n",
    "    point = 3500  #免征额\n",
    "    endowment_insurance_rate = 0.08  # 养老保险费率\n",
    "    hospital_rate = 0.02  # 医疗保险费率\n",
    "    losejob_rate = 0.01  # 失业保险费率\n",
    "    provident_rate = 0.12  # 公积金费率\n",
    "    provident_max = 20972 # 公积金基数最大值\n",
    "    provident_min = 1500 # 公积金基数最小值\n",
    "    \n",
    "    endowment_insurance_min = 2193 # 养老保险基数最小值\n",
    "    endowment_insurance_max = 16445 #养老保险基数最大值\n",
    "    \n",
    "    # TODO 请正确计算纳税额，返回税后薪水，并替换下面的一行\n",
    "    if(0<=salary<provident_min):\n",
    "        othertax = endowment_insurance_min*0.08+salary*0.02+salary*0.01+provident_min*0.12\n",
    "    if(provident_min<=salary<=endowment_insurance_min):\n",
    "        othertax = endowment_insurance_min*0.08+salary*0.02+salary*0.01+salary*0.12\n",
    "    if(endowment_insurance_min<salary<=3500):\n",
    "        othertax = salary*0.08+salary*0.02+salary*0.01+salary*0.12\n",
    "    if(3500<salary<=3500+1500):\n",
    "        othertax = salary*0.08+salary*0.02+salary*0.01+salary*0.12+(salary-3500)*0.03-0\n",
    "    if(3500+1500<salary<=3500+4500):\n",
    "        othertax = salary*0.08+salary*0.02+salary*0.01+salary*0.12+(salary-3500)*0.1-105\n",
    "    if(3500+4500<salary<=3500+9000):\n",
    "        othertax = salary*0.08+salary*0.02+salary*0.01+salary*0.12+(salary-3500)*0.2-555\n",
    "    if(3500+9000<salary<endowment_insurance_max):\n",
    "        othertax = salary*0.08+salary*0.02+salary*0.01+salary*0.12+(salary-3500)*0.25-1005\n",
    "    if(endowment_insurance_max<=salary<provident_max):\n",
    "        othertax = endowment_insurance_max*0.08+salary*0.02+salary*0.01+salary*0.12+(salary-3500)*0.25-1005\n",
    "    if(provident_max<=salary<=3500+35000):\n",
    "        othertax = endowment_insurance_max*0.08+salary*0.02+salary*0.01+provident_max*0.12+(salary-3500)*0.25-1005\n",
    "    if(3500+35000<salary<=3500+55000):\n",
    "        othertax = endowment_insurance_max*0.08+salary*0.02+salary*0.01+provident_max*0.12+(salary-3500)*0.3-2755\n",
    "    if(3500+55000<salary<=3500+80000):\n",
    "        othertax = endowment_insurance_max*0.08+salary*0.02+salary*0.01+provident_max*0.12+(salary-3500)*0.35-5505\n",
    "    if(3500+80000<salary):\n",
    "        othertax = endowment_insurance_max*0.08+salary*0.02+salary*0.01+provident_max*0.12+(salary-3500)*0.45-13505\n",
    "        \n",
    "    res_money = salary-othertax\n",
    "    \n",
    "    print '税前工资为：{0}, 税后工资为：{1}, 税为：{2}'.format(salary, res_money,othertax) \n",
    "    return res_money\n",
    "    \n"
   ]
  },
  {
   "cell_type": "code",
   "execution_count": 205,
   "metadata": {},
   "outputs": [
    {
     "name": "stdout",
     "output_type": "stream",
     "text": [
      "税前工资为：2500, 税后工资为：1925.0, 税为：575.0\n",
      "税前工资为：7000, 税后工资为：5145.0, 税为：1855.0\n",
      "税前工资为：8000, 税后工资为：5815.0, 税为：2185.0\n",
      "税前工资为：9000, 税后工资为：6385.0, 税为：2615.0\n",
      "税前工资为：50000, 税后工资为：33472.76, 税为：16527.24\n"
     ]
    }
   ],
   "source": [
    "taxs = {}\n",
    "for index, salary in full_data.iterrows():\n",
    "    tax = calculator(salary['salary'])\n",
    "    taxs[salary['name']] = tax\n",
    "    if (tax == salary['tax_maybe']):\n",
    "        print \"so cool\"\n",
    "   "
   ]
  },
  {
   "cell_type": "markdown",
   "metadata": {},
   "source": [
    "## 扩展内容\n",
    "将正确的纳税额导出到export.csv，并计算预测的正确率\n"
   ]
  },
  {
   "cell_type": "code",
   "execution_count": 206,
   "metadata": {},
   "outputs": [
    {
     "name": "stdout",
     "output_type": "stream",
     "text": [
      "税前工资为：2500, 税后工资为：1925.0, 税为：575.0\n",
      "税前工资为：7000, 税后工资为：5145.0, 税为：1855.0\n",
      "税前工资为：8000, 税后工资为：5815.0, 税为：2185.0\n",
      "税前工资为：9000, 税后工资为：6385.0, 税为：2615.0\n",
      "税前工资为：50000, 税后工资为：33472.76, 税为：16527.24\n"
     ]
    },
    {
     "name": "stderr",
     "output_type": "stream",
     "text": [
      "e:\\python27\\lib\\site-packages\\ipykernel_launcher.py:6: SettingWithCopyWarning: \n",
      "A value is trying to be set on a copy of a slice from a DataFrame\n",
      "\n",
      "See the caveats in the documentation: http://pandas.pydata.org/pandas-docs/stable/indexing.html#indexing-view-versus-copy\n",
      "  \n"
     ]
    },
    {
     "name": "stdout",
     "output_type": "stream",
     "text": [
      "export done\n"
     ]
    },
    {
     "data": {
      "text/html": [
       "<div>\n",
       "<style scoped>\n",
       "    .dataframe tbody tr th:only-of-type {\n",
       "        vertical-align: middle;\n",
       "    }\n",
       "\n",
       "    .dataframe tbody tr th {\n",
       "        vertical-align: top;\n",
       "    }\n",
       "\n",
       "    .dataframe thead th {\n",
       "        text-align: right;\n",
       "    }\n",
       "</style>\n",
       "<table border=\"1\" class=\"dataframe\">\n",
       "  <thead>\n",
       "    <tr style=\"text-align: right;\">\n",
       "      <th></th>\n",
       "      <th>name</th>\n",
       "      <th>salary</th>\n",
       "      <th>tax_maybe</th>\n",
       "      <th>tax</th>\n",
       "    </tr>\n",
       "  </thead>\n",
       "  <tbody>\n",
       "    <tr>\n",
       "      <th>0</th>\n",
       "      <td>wang</td>\n",
       "      <td>2500</td>\n",
       "      <td>0</td>\n",
       "      <td>575.00</td>\n",
       "    </tr>\n",
       "    <tr>\n",
       "      <th>1</th>\n",
       "      <td>zhang</td>\n",
       "      <td>7000</td>\n",
       "      <td>105</td>\n",
       "      <td>1855.00</td>\n",
       "    </tr>\n",
       "    <tr>\n",
       "      <th>2</th>\n",
       "      <td>li</td>\n",
       "      <td>8000</td>\n",
       "      <td>205</td>\n",
       "      <td>2185.00</td>\n",
       "    </tr>\n",
       "    <tr>\n",
       "      <th>3</th>\n",
       "      <td>song</td>\n",
       "      <td>9000</td>\n",
       "      <td>405</td>\n",
       "      <td>2615.00</td>\n",
       "    </tr>\n",
       "    <tr>\n",
       "      <th>4</th>\n",
       "      <td>tang</td>\n",
       "      <td>50000</td>\n",
       "      <td>800</td>\n",
       "      <td>16527.24</td>\n",
       "    </tr>\n",
       "  </tbody>\n",
       "</table>\n",
       "</div>"
      ],
      "text/plain": [
       "    name  salary  tax_maybe       tax\n",
       "0   wang    2500          0    575.00\n",
       "1  zhang    7000        105   1855.00\n",
       "2     li    8000        205   2185.00\n",
       "3   song    9000        405   2615.00\n",
       "4   tang   50000        800  16527.24"
      ]
     },
     "metadata": {},
     "output_type": "display_data"
    }
   ],
   "source": [
    "\n",
    "def export() :\n",
    "    # TODO 请导出正确的纳税额到export.csv, tax作为最后一列     \n",
    "    for index, salary in full_data.iterrows():   \n",
    "        resmoney = calculator(salary['salary'])    \n",
    "        full_data['tax'][index]=salary['salary']-resmoney\n",
    "        full_data.to_csv('E:\\G7\\G7_python_helloworld\\export.csv',encoding = 'utf-8', index = False)\n",
    "    print \"export done\"\n",
    "export()\n",
    "\n",
    "# 加载数据集\n",
    "in_file = 'export.csv'\n",
    "export_data = pd.read_csv(in_file)\n",
    "\n",
    "# 显示数据列表中的前几项数据\n",
    "display(export_data.head())"
   ]
  },
  {
   "cell_type": "code",
   "execution_count": 207,
   "metadata": {},
   "outputs": [
    {
     "data": {
      "text/plain": [
       "'accuracy of 0.00%.'"
      ]
     },
     "execution_count": 207,
     "metadata": {},
     "output_type": "execute_result"
    }
   ],
   "source": [
    "def accuracy_score():\n",
    "    # TODO 计算正确率   \n",
    "    socre = 0\n",
    "    count = 0\n",
    "    leng = len(export_data)\n",
    "    for index, salary in export_data.iterrows():                \n",
    "        tax = export_data['tax'][index]\n",
    "        taxmay = export_data['tax_maybe'][index]\n",
    "        if(tax==taxmay):\n",
    "            count +=0;\n",
    "            \n",
    "        score = count/leng\n",
    "    \n",
    "    return \"accuracy of {:.2f}%.\".format(socre)\n",
    "accuracy_score()"
   ]
  },
  {
   "cell_type": "markdown",
   "metadata": {},
   "source": [
    "> **注意**: 当你写完了所有**4个TODO**。你就可以把你的 iPython Notebook 导出成 HTML 文件。你可以在菜单栏，这样导出**File -> Download as -> HTML (.html)** 把这个 HTML 和这个 iPython notebook 一起做为你的作业提交。"
   ]
  }
 ],
 "metadata": {
  "kernelspec": {
   "display_name": "Python 2",
   "language": "python",
   "name": "python2"
  },
  "language_info": {
   "codemirror_mode": {
    "name": "ipython",
    "version": 2
   },
   "file_extension": ".py",
   "mimetype": "text/x-python",
   "name": "python",
   "nbconvert_exporter": "python",
   "pygments_lexer": "ipython2",
   "version": "2.7.10"
  }
 },
 "nbformat": 4,
 "nbformat_minor": 2
}
